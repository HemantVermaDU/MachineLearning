 library(MASS)
 attach(Boston)
 
    s<-sample(1:nrow(Boston), size = round(0.70*nrow(Boston)), replace=FALSE)
    Boston_train<- Boston [s,]
    Boston_test<- Boston [-s,]

    dim(Boston_test)
    dim(Boston_train)

    lm.fit<-lm(medv~lstat+age,data=Boston_train)
    summary(lm.fit)
    names(lm.fit)
    coef(lm.fit)
    y<-Boston_test$medv
    y_cap<-predict(lm.fit,lstat=Boston_test$lstat)

    plot(Boston_test$lstat,Boston_test$medv)
    abline(lm.fit)

    plot(predict(lm.fit),residuals(lm.fit))
    plot(hatvalues(lm.fit))
