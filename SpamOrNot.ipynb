library(ISLR)
data()
attach(Smarket)
names(Smarket)
  
    size<- length(Year)
    test_size<- 0.3*size
    s <- sample(size,test_size)
    test<- Smarket[s,]
    train<- Smarket[-s,]

    ?glm
    glm.fit<- glm(Direction~Lag1+Lag2+Lag3+Lag4+Lag5+Volume, family = binomial ,data = train) 
    p <- predict(glm.fit,test,type = "response") #response is necessary for creation of values

    View(p)
    ?as.data.frame
    p1 <- as.data.frame(p)

    View(p1)
    categorize<- function(x)
    {
        if(x>0.5)
            return( "UP")
        else
            return ("DOWN")
    }

    View(p1)
    for(i in c(1:nrow(test)))
    {
        x<- categorize(p1$p[i])
        p1$p[i] <- x
    }

    View(p1)
    install.packages("e1071")
    library(e1071)
    table(p1$p,test$Direction)
    install.packages("caret")
    library(caret)
