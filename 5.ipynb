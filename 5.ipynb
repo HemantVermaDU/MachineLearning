  x<-as.data.frame(rep(1,90))
    x<-c(x[c(1:40,51:90),1],iris[c(1:40,51:90),c(2:4)])
    x<-as.data.frame(x[c(1,81:83)])
    x<-as.matrix(x)
    xt<-t(x)
    xtx<-xt%*%x                              #X(T)X
    test_iris<-as.matrix(iris[c(41:50,91:100),c(2:4)])
    pred<-as.matrix(iris[c(41:50,91:100),1],1,20)
    lambda<-seq(1,20,2)
    identity_mat<-matrix(rep(0,16),4,4)
    identity_mat<-diag(4)
    y<-as.matrix(iris[c(1:40,51:90),1])

    identity_mat[1,1]=0
    thetas<-c()
    for (j in 1:10)
    {
        m<-xtx+(lambda[j]*identity_mat)         #(X[T]X + lamda*theta)
        inverse_mat<-solve(m)                            #(X[T]X + lamda*theta )-1
    
        mult<-xt%*%y                                          #X[T]Y
        final<-inverse_mat%*%mult                      #((X[T]X + lamda*theta )-1)(X[T]Y)
    
        check<-c()
        for(i in 1:nrow(test_iris))
        {
            check<-c(check,(1*final[1,1]+test_iris[i,1]*final[2,1]+test_iris[i,2]*final[3,1]+test_iris[i,3]*final[4,1]))
        }

        check<-as.data.frame(check)
        error<-sum((pred-check)^2)/20
        thetas<-c(thetas,error)        
    }

    accuracy<-order(thetas)
    cat("minimum error is given by :",thetas[accuracy[1]]," with theta no ",accuracy[1]," that is lambda = ",lambda[accuracy[1]])
